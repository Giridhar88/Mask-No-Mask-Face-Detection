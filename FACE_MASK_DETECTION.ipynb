{
  "nbformat": 4,
  "nbformat_minor": 0,
  "metadata": {
    "accelerator": "GPU",
    "colab": {
      "name": "FACE_MASK_DETECTION.ipynb",
      "provenance": [],
      "collapsed_sections": [],
      "include_colab_link": true
    },
    "kernelspec": {
      "display_name": "Python 3",
      "name": "python3"
    }
  },
  "cells": [
    {
      "cell_type": "markdown",
      "metadata": {
        "id": "view-in-github",
        "colab_type": "text"
      },
      "source": [
        "<a href=\"https://colab.research.google.com/github/Giridhar88/Mask-No-Mask-Face-Detection/blob/main/FACE_MASK_DETECTION.ipynb\" target=\"_parent\"><img src=\"https://colab.research.google.com/assets/colab-badge.svg\" alt=\"Open In Colab\"/></a>"
      ]
    },
    {
      "cell_type": "markdown",
      "metadata": {
        "id": "7mGmQbAO5pQb"
      },
      "source": [
        "# Project - Face Mask Detection\n",
        "\n",
        "By - Giridhar K."
      ]
    },
    {
      "cell_type": "markdown",
      "metadata": {
        "id": "1d6qPqSxYuZu"
      },
      "source": [
        "Step 1 - Map to google drive by mounting the drive"
      ]
    },
    {
      "cell_type": "code",
      "metadata": {
        "id": "ClE9Prr_i5gY"
      },
      "source": [
        "from google.colab import drive\n",
        "drive.mount('/content/drive')"
      ],
      "execution_count": null,
      "outputs": []
    },
    {
      "cell_type": "code",
      "metadata": {
        "id": "ri3tcvE8jO1t"
      },
      "source": [
        "%cd '/content/drive/My Drive/'"
      ],
      "execution_count": null,
      "outputs": []
    },
    {
      "cell_type": "markdown",
      "metadata": {
        "id": "kNqKbRtLg80i"
      },
      "source": [
        "Step 2 - Install Yolov5 and check if GPU is available on Colab"
      ]
    },
    {
      "cell_type": "code",
      "metadata": {
        "id": "wbvMlHd_QwMG"
      },
      "source": [
        "!git clone https://github.com/ultralytics/yolov5  # clone repo\n",
        "%cd yolov5\n",
        "%pip install -qr requirements.txt  # install dependencies\n",
        "# Yolo installation (one time activity)\n",
        "import torch\n",
        "from IPython.display import Image, clear_output  # to display images\n",
        "\n",
        "clear_output()\n",
        "print(f\"Setup complete. Using torch {torch.__version__} ({torch.cuda.get_device_properties(0).name if torch.cuda.is_available() else 'CPU'})\")"
      ],
      "execution_count": null,
      "outputs": []
    },
    {
      "cell_type": "markdown",
      "metadata": {
        "id": "6yj84Sostd-P"
      },
      "source": [
        "Note - If you see (Tesla T4) above in place of CPU it means you have GPU allocated"
      ]
    },
    {
      "cell_type": "code",
      "metadata": {
        "id": "PPIFI0vuj44d"
      },
      "source": [
        "import os\n",
        "os.getcwd()\n",
        "\n",
        "# this gives in which directory we are currently working from\n",
        "#  you need to place the training (train and valid folders from Roboflow in Yolo Darknet format (images with txt annotation format)) should i place"
      ],
      "execution_count": null,
      "outputs": []
    },
    {
      "cell_type": "markdown",
      "metadata": {
        "id": "zt13iOy-2Rkg"
      },
      "source": [
        "Step 3 - Train the model on our custom masked/non masked images from our training dataset which is converted into Yolo darknet format using Roboflow. We have randomly initialized the weights and used adam optimizer and trained for 150 epochs and batch size 16."
      ]
    },
    {
      "cell_type": "code",
      "metadata": {
        "id": "Oh2kDYhCetpn"
      },
      "source": [
        "# Training the model ( need not be run everytime for inference)\n",
        "!python train.py --img 416 --batch 16 --epochs 150 --data data.yaml --cfg yolov5s.yaml --weights '' --name robo4_epoch150_s9 --adam"
      ],
      "execution_count": null,
      "outputs": []
    },
    {
      "cell_type": "markdown",
      "metadata": {
        "id": "Zt2m_e0uK5Qc"
      },
      "source": [
        "Step 4 - Post training  this is where the trained weights are stored - runs/train/robo4_epoch150_s9/weights/best.pt\n",
        "--source is where we give input to test our trained model. options are we can give an image as input, video in .mp4 format or directly youtube link as video as well.\n",
        "\n",
        "Step 5 - Use detect.py to pass input images/videos to infer the model performance/prediction\n",
        "\n",
        "Here we are passing a youtube video and output will be stored on runs/detect/exp*"
      ]
    },
    {
      "cell_type": "code",
      "metadata": {
        "id": "DZ0PiBx9zvoC"
      },
      "source": [
        "!python detect.py --weights runs/train/robo4_epoch150_s92/weights/best.pt --source 'https://www.youtube.com/watch?v=GhifJRHQCwE' --iou-thres 0.3 --conf-thres 0.6"
      ],
      "execution_count": null,
      "outputs": []
    },
    {
      "cell_type": "markdown",
      "metadata": {
        "id": "cz3C4klPicum"
      },
      "source": [
        "Step 6 - Checking inference on a half-masked image"
      ]
    },
    {
      "cell_type": "code",
      "metadata": {
        "id": "BxehBWaPb2Np"
      },
      "source": [
        "#half mask image\n",
        "\n",
        "!python detect.py --weights runs/train/robo4_epoch150_s92/weights/best.pt --source half-mask.jpg --iou-thres 0.3 --conf-thres 0.6"
      ],
      "execution_count": null,
      "outputs": []
    },
    {
      "cell_type": "markdown",
      "metadata": {
        "id": "1CEj299ZxxAj"
      },
      "source": [
        "Step6a - Checking inference on an image with high brightness"
      ]
    },
    {
      "cell_type": "code",
      "metadata": {
        "id": "O9AVXV_9xwsC"
      },
      "source": [
        "!python detect.py --weights runs/train/robo4_epoch150_s92/weights/best.pt --source high-bright.jpg --iou-thres 0.3 --conf-thres 0.6"
      ],
      "execution_count": null,
      "outputs": []
    },
    {
      "cell_type": "markdown",
      "metadata": {
        "id": "xB38XjYZ47HQ"
      },
      "source": [
        "Step6b - Checking inference on blurred image"
      ]
    },
    {
      "cell_type": "code",
      "metadata": {
        "id": "GXPRw08j4lhE"
      },
      "source": [
        "!python detect.py --weights runs/train/robo4_epoch150_s92/weights/best.pt --source blur.jpg --iou-thres 0.3 --conf-thres 0.6"
      ],
      "execution_count": null,
      "outputs": []
    },
    {
      "cell_type": "markdown",
      "metadata": {
        "id": "6YwwI9d-5o0V"
      },
      "source": [
        "Step6c - Checking inference on low bright image"
      ]
    },
    {
      "cell_type": "code",
      "metadata": {
        "id": "FmEdx_wx5psC"
      },
      "source": [
        "!python detect.py --weights runs/train/robo4_epoch150_s92/weights/best.pt --source low-bright.jpg --iou-thres 0.3 --conf-thres 0.6"
      ],
      "execution_count": null,
      "outputs": []
    },
    {
      "cell_type": "markdown",
      "metadata": {
        "id": "TppGpUTT6HqC"
      },
      "source": [
        "Step6d - Checking inference on a normal masked image"
      ]
    },
    {
      "cell_type": "code",
      "metadata": {
        "id": "-2dT75AU6IIT"
      },
      "source": [
        "!python detect.py --weights runs/train/robo4_epoch150_s92/weights/best.pt --source masked.jpg --iou-thres 0.3 --conf-thres 0.6"
      ],
      "execution_count": null,
      "outputs": []
    },
    {
      "cell_type": "markdown",
      "metadata": {
        "id": "v-T7PR9_6iDC"
      },
      "source": [
        "Step6e - Checking inference on image with noise "
      ]
    },
    {
      "cell_type": "code",
      "metadata": {
        "id": "LQbgVfKf7OyN"
      },
      "source": [
        "!python detect.py --weights runs/train/robo4_epoch150_s92/weights/best.pt --source noise.jpg --iou-thres 0.3 --conf-thres 0.6"
      ],
      "execution_count": null,
      "outputs": []
    },
    {
      "cell_type": "markdown",
      "metadata": {
        "id": "_rQzH1qb7Tjw"
      },
      "source": [
        "Step6f - Checking inference on rotated image"
      ]
    },
    {
      "cell_type": "code",
      "metadata": {
        "id": "zVZvUdwS735n"
      },
      "source": [
        "!python detect.py --weights runs/train/robo4_epoch150_s92/weights/best.pt --source rotated.jpg --iou-thres 0.3 --conf-thres 0.6"
      ],
      "execution_count": null,
      "outputs": []
    },
    {
      "cell_type": "markdown",
      "metadata": {
        "id": "d5g_6qk-5bXo"
      },
      "source": [
        ""
      ]
    },
    {
      "cell_type": "markdown",
      "metadata": {
        "id": "ro20g4C7iojK"
      },
      "source": [
        "Step 7 - Checking inference on a sample video"
      ]
    },
    {
      "cell_type": "code",
      "metadata": {
        "id": "6r4tjP1vVdJt"
      },
      "source": [
        "!python detect.py --weights runs/train/robo4_epoch150_s92/weights/best.pt --source Sample1-converted.mp4 --iou-thres 0.3 --conf-thres 0.6"
      ],
      "execution_count": null,
      "outputs": []
    },
    {
      "cell_type": "code",
      "metadata": {
        "id": "BmxKa9ho3kL1"
      },
      "source": [
        "!python detect.py --weights runs/train/robo4_epoch150_s92/weights/best.pt --source gg.jpg --iou-thres 0.3 --conf-thres 0.6"
      ],
      "execution_count": null,
      "outputs": []
    },
    {
      "cell_type": "code",
      "metadata": {
        "id": "J39oWs5OXBGU"
      },
      "source": [
        "!python detect.py --weights runs/train/robo4_epoch150_s92/weights/best.pt --source Sample2-converted.mp4 --iou-thres 0.3 --conf-thres 0.6"
      ],
      "execution_count": null,
      "outputs": []
    },
    {
      "cell_type": "code",
      "metadata": {
        "id": "bOy5KI2ncnWd"
      },
      "source": [
        "# Tensorboard  (optional)\n",
        "%load_ext tensorboard\n",
        "%tensorboard --logdir runs/train"
      ],
      "execution_count": null,
      "outputs": []
    },
    {
      "cell_type": "code",
      "metadata": {
        "id": "2fLAV42oNb7M"
      },
      "source": [
        "# Weights & Biases  (optional)\n",
        "%pip install -q wandb\n",
        "import wandb\n",
        "wandb.login()"
      ],
      "execution_count": null,
      "outputs": []
    },
    {
      "cell_type": "markdown",
      "metadata": {
        "id": "7KN5ghjE6ZWh"
      },
      "source": [
        "Training results are automatically logged to [Tensorboard](https://www.tensorflow.org/tensorboard) and `runs/train/exp/results.txt`, which is plotted as `results.png` (below) after training completes. You can also plot any `results.txt` file manually:"
      ]
    },
    {
      "cell_type": "code",
      "metadata": {
        "id": "MDznIqPF7nk3"
      },
      "source": [
        "from utils.plots import plot_results \n",
        "plot_results(save_dir='runs/train/robo4_epoch150_s92')  # plot all results*.txt files in 'runs/train/exp'\n",
        "Image(filename='runs/train/robo4_epoch150_s92/results.png', width=800)"
      ],
      "execution_count": null,
      "outputs": []
    },
    {
      "cell_type": "markdown",
      "metadata": {
        "id": "lfrEegCSW3fK"
      },
      "source": [
        "<p align=\"left\"><img width=\"800\" alt=\"COCO128 Training Results\" src=\"https://github.com/ultralytics/yolov5/releases/download/v1.0/results_COCO128.png\"></p>"
      ]
    }
  ]
}